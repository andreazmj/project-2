{
  "nbformat": 4,
  "nbformat_minor": 0,
  "metadata": {
    "colab": {
      "provenance": [],
      "authorship_tag": "ABX9TyOTALYLfrYDOg/cnW/HaEFc",
      "include_colab_link": true
    },
    "kernelspec": {
      "name": "python3",
      "display_name": "Python 3"
    },
    "language_info": {
      "name": "python"
    }
  },
  "cells": [
    {
      "cell_type": "markdown",
      "metadata": {
        "id": "view-in-github",
        "colab_type": "text"
      },
      "source": [
        "<a href=\"https://colab.research.google.com/github/andreazmj/project-2/blob/main/Copy_of_Untitled0.ipynb\" target=\"_parent\"><img src=\"https://colab.research.google.com/assets/colab-badge.svg\" alt=\"Open In Colab\"/></a>"
      ]
    },
    {
      "cell_type": "code",
      "source": [
        "# Boolean\n",
        "Male = True\n",
        "Female = False\n",
        "# print(Male)\n",
        "\n",
        "# String\n",
        "namaku = \"Andreas Setia Atmaja\"\n",
        "#namaku = \"Tono\"\n",
        "print (namaku)\n",
        "\n",
        "#Integer\n",
        "umurku = 26\n",
        "\n",
        "tahunKelahiran = 1996\n",
        "tahunSekarang = 2023\n",
        "# print (tahunSekarang )\n",
        "\n",
        "# Float\n",
        "GPA = 3.56\n",
        "# print (GPA)\n",
        "\n",
        "#Complex number\n",
        "number = 2+2j\n",
        "#print (angka)\n",
        "\n",
        "print (type(Male))\n",
        "print (type(GPA))\n",
        "print (type (number))"
      ],
      "metadata": {
        "colab": {
          "base_uri": "https://localhost:8080/"
        },
        "id": "n6-GdLstXzn5",
        "outputId": "7aa35603-35af-4168-8bf4-46cb83d2f138"
      },
      "execution_count": null,
      "outputs": [
        {
          "output_type": "stream",
          "name": "stdout",
          "text": [
            "Andreas Setia Atmaja\n",
            "<class 'bool'>\n",
            "<class 'float'>\n",
            "<class 'complex'>\n"
          ]
        }
      ]
    },
    {
      "cell_type": "code",
      "source": [
        "print (\"Halo, namaku \", namaku)"
      ],
      "metadata": {
        "colab": {
          "base_uri": "https://localhost:8080/"
        },
        "id": "A9Wr8tITXxAK",
        "outputId": "6e37a0a7-c47c-4a79-f5bf-6d3b20bd2530"
      },
      "execution_count": null,
      "outputs": [
        {
          "output_type": "stream",
          "name": "stdout",
          "text": [
            "Halo, namaku  Andreas Setia Atmaja\n"
          ]
        }
      ]
    },
    {
      "cell_type": "code",
      "source": [
        "a = 13.0\n",
        "b = 3\n",
        "print(a + b)\n",
        "print(a * b)\n",
        "print(a - b)\n",
        "print(a % b)\n",
        "print(a ** a)\n",
        "print(pow(a,b))\n",
        "print(abs(a))\n",
        "\n",
        "print (max(3,4,5,6,10))\n",
        "print (min(3,4,5,6,10))\n"
      ],
      "metadata": {
        "colab": {
          "base_uri": "https://localhost:8080/"
        },
        "id": "O7H8Pze7srkH",
        "outputId": "765cc307-56d5-4155-ffb4-25152be0a2e4"
      },
      "execution_count": null,
      "outputs": [
        {
          "output_type": "stream",
          "name": "stdout",
          "text": [
            "16.0\n",
            "39.0\n",
            "10.0\n",
            "1.0\n",
            "302875106592253.0\n",
            "2197.0\n",
            "13.0\n",
            "10\n",
            "3\n"
          ]
        }
      ]
    },
    {
      "cell_type": "code",
      "source": [
        "a = 600\n",
        "b = 630\n",
        "if b>a:\n",
        "  print(\"b lebih besar dari a\")\n",
        "else:\n",
        "  print(\"ini a lho yg lbh gede\")"
      ],
      "metadata": {
        "colab": {
          "base_uri": "https://localhost:8080/"
        },
        "id": "fyisqtGwzu8Y",
        "outputId": "fb036424-f583-41c1-bd89-83edc44169f4"
      },
      "execution_count": null,
      "outputs": [
        {
          "output_type": "stream",
          "name": "stdout",
          "text": [
            "b lebih besar dari a\n"
          ]
        }
      ]
    },
    {
      "cell_type": "code",
      "source": [
        "a = 90 #1000, 8, 9, 90\n",
        "b = 33\n",
        "c = 190\n",
        "\n",
        "# = maka assign nilai\n",
        "# == maka compare nilai\n",
        "\n",
        "if (a > b > c) and a >= 1000:\n",
        "  print(\"A adalah yang terbesar\")\n",
        "elif (a == 9):\n",
        "  print(\"A adalah 9\")\n",
        "elif (a > b or a > c) and a <=1000:\n",
        "  print(\"Salah Satu kondisi adalah benar\")\n",
        "else:\n",
        "  print(\"Semua salah\")"
      ],
      "metadata": {
        "colab": {
          "base_uri": "https://localhost:8080/"
        },
        "id": "F1f5FwoL0Zw5",
        "outputId": "213996c6-6fd5-4548-bc81-b281fa3d60c0"
      },
      "execution_count": null,
      "outputs": [
        {
          "output_type": "stream",
          "name": "stdout",
          "text": [
            "Salah Satu kondisi adalah benar\n"
          ]
        }
      ]
    },
    {
      "cell_type": "code",
      "source": [
        "  x =21 #9,19,21\n",
        "\n",
        "  # indent \n",
        "  if x > 10:\n",
        "    print(\"Diatas sepuluh,\")\n",
        "    if x > 20:\n",
        "      print(\"Diatas 20 juga!!\")\n",
        "    else:\n",
        "      print(\"tapi tidak diatas 20.\")\n",
        "  else:\n",
        "      print(\"Nilai dibawah 10\")"
      ],
      "metadata": {
        "colab": {
          "base_uri": "https://localhost:8080/"
        },
        "id": "83I9c8_T2jBE",
        "outputId": "ac0968dc-39c3-4a94-d3fa-47bc05a12a70"
      },
      "execution_count": null,
      "outputs": [
        {
          "output_type": "stream",
          "name": "stdout",
          "text": [
            "Diatas sepuluh,\n",
            "Diatas 20 juga!!\n"
          ]
        }
      ]
    },
    {
      "cell_type": "code",
      "source": [
        "x = 5\n",
        "y = 12\n",
        "\n",
        "# AND = HARUS TRUE SEMUA UNTUK HASIL TRUE\n",
        "# OR = SALAH SATU TRUE YA UDAH TRUE\n",
        "# NOT = KEBALIKANNYA DARI HASIL OPERATOR AND / OR\n",
        "\n",
        "print(x > 3 and y < 10) \n",
        "print(x > 3 or y < 4) \n",
        "print(not(x > 5 and y < 12))"
      ],
      "metadata": {
        "colab": {
          "base_uri": "https://localhost:8080/"
        },
        "id": "FzjUDXZ_4NNQ",
        "outputId": "caec0408-ec78-4006-ec0a-84372267435b"
      },
      "execution_count": null,
      "outputs": [
        {
          "output_type": "stream",
          "name": "stdout",
          "text": [
            "False\n",
            "True\n",
            "True\n"
          ]
        }
      ]
    },
    {
      "cell_type": "markdown",
      "source": [
        "List"
      ],
      "metadata": {
        "id": "Gi0zMk6G_NDw"
      }
    },
    {
      "cell_type": "code",
      "source": [
        "nama = [\"Farah\",\"Agil\",\"Muggy\",\"Farah\"]\n",
        "Jabatan = [\"Tutor DS18\", \"Tutor DS16\", \"Tutor DS12\"]\n",
        "\n",
        "nama [3] = \"Aries\" \n",
        "print(nama)\n",
        "Jabatan[2] = \"Tutor Python 1\"\n",
        "\n",
        "print(Jabatan[2])"
      ],
      "metadata": {
        "colab": {
          "base_uri": "https://localhost:8080/"
        },
        "id": "EA5nS4XR-smR",
        "outputId": "ca5d6a64-8b35-4660-e502-8335d80a7bce"
      },
      "execution_count": null,
      "outputs": [
        {
          "output_type": "stream",
          "name": "stdout",
          "text": [
            "['Farah', 'Agil', 'Muggy', 'Aries']\n",
            "Tutor Python 1\n"
          ]
        }
      ]
    },
    {
      "cell_type": "markdown",
      "source": [
        "Tuple"
      ],
      "metadata": {
        "id": "2A2g_-GLABlq"
      }
    },
    {
      "cell_type": "code",
      "source": [
        "nama_tutor = (\"Farah\", \"Agil\", \"Muggy\")\n",
        "Kota = (\"Chicago\",\"New York\",\"Tokyo\")"
      ],
      "metadata": {
        "id": "V9EXKOe3AAzs"
      },
      "execution_count": null,
      "outputs": []
    },
    {
      "cell_type": "code",
      "source": [
        "Kota[2] = \"Tokyo\""
      ],
      "metadata": {
        "colab": {
          "base_uri": "https://localhost:8080/",
          "height": 166
        },
        "id": "TpHCv4WfAcKN",
        "outputId": "2b6afa04-910c-493d-b085-7a096c2ef4a8"
      },
      "execution_count": null,
      "outputs": [
        {
          "output_type": "error",
          "ename": "TypeError",
          "evalue": "ignored",
          "traceback": [
            "\u001b[0;31m---------------------------------------------------------------------------\u001b[0m",
            "\u001b[0;31mTypeError\u001b[0m                                 Traceback (most recent call last)",
            "\u001b[0;32m<ipython-input-34-a7ccd0a83d34>\u001b[0m in \u001b[0;36m<module>\u001b[0;34m\u001b[0m\n\u001b[0;32m----> 1\u001b[0;31m \u001b[0mKota\u001b[0m\u001b[0;34m[\u001b[0m\u001b[0;36m2\u001b[0m\u001b[0;34m]\u001b[0m \u001b[0;34m=\u001b[0m \u001b[0;34m\"Tokyo\"\u001b[0m\u001b[0;34m\u001b[0m\u001b[0;34m\u001b[0m\u001b[0m\n\u001b[0m",
            "\u001b[0;31mTypeError\u001b[0m: 'tuple' object does not support item assignment"
          ]
        }
      ]
    },
    {
      "cell_type": "markdown",
      "source": [
        "Dictionary"
      ],
      "metadata": {
        "id": "KA1BnXVoAydw"
      }
    },
    {
      "cell_type": "code",
      "source": [
        "car = {\n",
        "    \"brand\":\"Ford\",\n",
        "    \"model\":\"Mustang\",\n",
        "    \"year\": 1964\n",
        "}"
      ],
      "metadata": {
        "id": "tABSSyNaAwl0"
      },
      "execution_count": null,
      "outputs": []
    },
    {
      "cell_type": "code",
      "source": [
        "car[\"year\"]"
      ],
      "metadata": {
        "colab": {
          "base_uri": "https://localhost:8080/",
          "height": 166
        },
        "id": "S8gpvA_wBMWJ",
        "outputId": "6495e0d8-59cf-4d99-d7a2-a6aea78e5dd8"
      },
      "execution_count": null,
      "outputs": [
        {
          "output_type": "error",
          "ename": "NameError",
          "evalue": "ignored",
          "traceback": [
            "\u001b[0;31m---------------------------------------------------------------------------\u001b[0m",
            "\u001b[0;31mNameError\u001b[0m                                 Traceback (most recent call last)",
            "\u001b[0;32m<ipython-input-38-6c57c01affee>\u001b[0m in \u001b[0;36m<module>\u001b[0;34m\u001b[0m\n\u001b[0;32m----> 1\u001b[0;31m \u001b[0mcar\u001b[0m\u001b[0;34m[\u001b[0m\u001b[0;34m\"year\"\u001b[0m\u001b[0;34m]\u001b[0m\u001b[0;34m\u001b[0m\u001b[0;34m\u001b[0m\u001b[0m\n\u001b[0m",
            "\u001b[0;31mNameError\u001b[0m: name 'car' is not defined"
          ]
        }
      ]
    },
    {
      "cell_type": "markdown",
      "source": [
        "# "
      ],
      "metadata": {
        "id": "wUoXp8Ne-tES"
      }
    }
  ]
}